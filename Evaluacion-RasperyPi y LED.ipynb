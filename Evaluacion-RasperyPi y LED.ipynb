{
 "cells": [
  {
   "cell_type": "markdown",
   "metadata": {},
   "source": [
    "# Computo de Alto Desempeño\n",
    "\n",
    "## Practica de RasperyPi con Led\n",
    "\n",
    "### Roberto Guerrero Bueno (rguerrero.mca16@lania.edu.mx)"
   ]
  },
  {
   "cell_type": "raw",
   "metadata": {},
   "source": [
    "Se tiene un programa en python que enciende led de colores verde y rojo, el circuito esta conectado y el programa almacenado en una RasperyPi cuyo nombre es rpi-lania3.local. La RasperyPi se encuentra en una red de 5 nodos.\n",
    "\n",
    "Se usa las librerias MPI y RPi.GPIO para su funcionamiento."
   ]
  },
  {
   "cell_type": "raw",
   "metadata": {},
   "source": [
    "# El codigo del programa es el siguiente:\n",
    "   \n",
    "\"\"\"\n",
    "LED Demo\n",
    "\n",
    "\"\"\"\n",
    "from mpi4py import MPI\n",
    "import RPi.GPIO as GPIO\n",
    "import time as time\n",
    "\n",
    "# Set up GPIO\n",
    "GPIO.cleanup()\n",
    "GPIO.setmode(GPIO.BCM)\n",
    "\n",
    "GPIO.setup(27, GPIO.OUT) #Mestro Proceso 0, led verde\n",
    "GPIO.setup(18, GPIO.OUT) #Proceso 1, led rojo\n",
    "GPIO.setup(23, GPIO.OUT) #Proceso 2, led rojo\n",
    "GPIO.setup(24, GPIO.OUT) #Proceso 3, led rojo\n",
    "GPIO.setup(25, GPIO.OUT) #Proceso 4, led rojo\n",
    "\n",
    "# MPI variables for communication, rank, size, and name of the node\n",
    "comm = MPI.COMM_WORLD\n",
    "rank = comm.Get_rank()\n",
    "size = comm.Get_size()\n",
    "name = MPI.Get_processor_name()\n",
    "\n",
    "total_requests = 12\n",
    "\n",
    "print \"rank=\",rank\n",
    "\n",
    "# This is the master node.\n",
    "if rank == 0:\n",
    "    request = 0\n",
    "    process = 1\n",
    "\n",
    "    # Send the first batch of processes to the nodes.\n",
    "\n",
    "    while process < size and request < total_requests:\n",
    "        comm.send(request, dest=process, tag=1)\n",
    "        print \"Sending request\",request,\"to process\",process\n",
    "        request += 1\n",
    "        process += 1\n",
    "\n",
    "    # Wait for the data to come back\n",
    "\n",
    "    received_processes = 0\n",
    "\n",
    "    while received_processes < total_requests:\n",
    "        process = comm.recv(source=MPI.ANY_SOURCE, tag=1)\n",
    "        print \"Received data from process\", process\n",
    "        if (process == 1):\n",
    "            GPIO.output(18,True)\n",
    "            time.sleep(1)\n",
    "            GPIO.output(18,False)\n",
    "            GPIO.output(23, False)\n",
    "            GPIO.output(24, False)\n",
    "            GPIO.output(25, False)\n",
    "        elif (process == 2):\n",
    "            GPIO.output(23, True)\n",
    "            time.sleep(1)\n",
    "            GPIO.output(23,False)\n",
    "            GPIO.output(18, False)\n",
    "            GPIO.output(24, False)\n",
    "            GPIO.output(25, False)\n",
    "        elif (process == 3):\n",
    "            GPIO.output(24, True)\n",
    "            time.sleep(1)\n",
    "            GPIO.output(24,False)\n",
    "            GPIO.output(18, False)\n",
    "            GPIO.output(23, False)\n",
    "            GPIO.output(25, False)\n",
    "        elif (process == 4):\n",
    "            GPIO.output(25, True)\n",
    "            time.sleep(1)\n",
    "            GPIO.output(25,False)\n",
    "            GPIO.output(18, False)\n",
    "            GPIO.output(23, False)\n",
    "            GPIO.output(24, False)\n",
    "\n",
    "        received_processes += 1\n",
    "\n",
    "        if request < total_requests:\n",
    "            comm.send(request, dest=process, tag=1)\n",
    "            print \"Sending request\",request,\"to process\", process\n",
    "            GPIO.output(27, True)\n",
    "            request += 1\n",
    "\n",
    "    # Send the shutdown signal\n",
    "    for process in range(1,size):\n",
    "        comm.send(-1, dest=process, tag=1)\n",
    "    print \"End\"\n",
    "\n",
    "# These are the slave nodes, where rank > 0. They receive the request from the master node and simply send a response back\n",
    "\n",
    "else:\n",
    "    while True:\n",
    "        start = comm.recv(source=0, tag=1)\n",
    "        if start == -1: break\n",
    "        comm.send(rank, dest=0, tag=1)\n",
    "\n",
    "#Clean up GPIO activities after all processing takes place\n",
    "GPIO.cleanup()"
   ]
  },
  {
   "cell_type": "raw",
   "metadata": {},
   "source": [
    "El programa tiene contemplado un nodo maestro y los demas esclavos, por lo que todos estan unidos. Para que esto funcione el programa debe ser almacenado en las otras RasperyPi usando\n",
    "el comando:\n",
    "    \n",
    "    scp ledequipo3.py rpi-lania2.local:~/comades/python\n",
    "    \n",
    "Donde:\n",
    "    ledequipo3.py es el programa\n",
    "    rip-lania2.local es el nodo destino\n",
    "    ~/comades/python es la ruta donde se va a almacenar\n",
    "\n",
    "Si los nodos no tienen una llave de acceso a la hora de copiar, pedira que la clave sea tecleada."
   ]
  },
  {
   "cell_type": "raw",
   "metadata": {},
   "source": [
    "Una vez almacenados los archivos en los nodos, haremos uso del comando\n",
    "    \n",
    "    mpirun.openmpi\n",
    "\n",
    "Esta instruccion tiene un atributo llamado -machinefile donde apunta a un archivo que contiene los nombres de los host en forma ordenada, el primer nombre que aparezca en este archivo sera el maestro, ya que el programa asi lo especifica."
   ]
  },
  {
   "cell_type": "raw",
   "metadata": {},
   "source": [
    "El contenido del archivo cuyo nombre por convenienvia le llamaremos \"machinefile\" es:\n",
    "\n",
    "rpi-lania3.local\n",
    "rpi-lania4.local\n",
    "rpi-lania5.local\n",
    "rpi-lania1.local\n",
    "rpi-lania2.local\n",
    "\n",
    "rpi-lania3.local es el maestro y todos los demas son esclavos."
   ]
  },
  {
   "cell_type": "raw",
   "metadata": {},
   "source": [
    "El comando para ejecutar el programa es:\n",
    "    \n",
    "     mpirun.openmpi -np 5 -machinefile machinefile python ledequipo3.py\n",
    "\n",
    "Donde:\n",
    "    -np # es el numero de nodos\n",
    "    -machinefile es la propiedad que apunta a un archivo llamado machinefile\n",
    "    ledequipo3.py es el programa a ejecutar"
   ]
  },
  {
   "cell_type": "raw",
   "metadata": {},
   "source": [
    "Si uno de los nodos no tiene la llave de acceso, les pedira la contraseña arrojando lo siguiente:\n",
    "\n",
    "    Warning: the ECDSA host key for 'rpi-lania2.local' differs from the key for the IP address '192.168.100.71'\n",
    "    Offending key for IP in /home/pi/.ssh/known_hosts:1\n",
    "    Matching host key in /home/pi/.ssh/known_hosts:12\n",
    "    Are you sure you want to continue connecting (yes/no)? yes\n",
    "    pi@rpi-lania2.local's password: \n",
    "\n",
    "Solo ingrese la contraseña del usuario."
   ]
  },
  {
   "cell_type": "raw",
   "metadata": {},
   "source": [
    "Si desea ejecutar el programa desde otra RasperyPi que no sea la suya, asegurese de los siguientes puntos:\n",
    "\n",
    "    Que tenga acceso al nodo, use el comando \"ping IP\" o \"ssh usuario@IP\"\n",
    "    Que el programa apunte a los pines correctos\n",
    "    Que todos los nodos tienen el mismo programa\n",
    "    Que el primer nodo sea el host desde donde lo este ejecutando.\n",
    "    Que todos los nodos aparezcan en el archivo machinefile"
   ]
  },
  {
   "cell_type": "raw",
   "metadata": {
    "collapsed": true
   },
   "source": [
    "Ejecute el archivo usando el comando \n",
    "\n",
    "mpirun.openmpi -np 5 -machinefile machinefile python ledequipo3.py\n",
    "\n",
    "el orden lo especifica en el archivo machinefile, donde el primero es el nodo maestro."
   ]
  }
 ],
 "metadata": {
  "kernelspec": {
   "display_name": "Python 2",
   "language": "python",
   "name": "python2"
  },
  "language_info": {
   "codemirror_mode": {
    "name": "ipython",
    "version": 2
   },
   "file_extension": ".py",
   "mimetype": "text/x-python",
   "name": "python",
   "nbconvert_exporter": "python",
   "pygments_lexer": "ipython2",
   "version": "2.7.13"
  }
 },
 "nbformat": 4,
 "nbformat_minor": 2
}
